{
 "cells": [
  {
   "cell_type": "code",
   "execution_count": 1,
   "metadata": {
    "collapsed": true
   },
   "outputs": [],
   "source": [
    "import numpy as np\n",
    "import pandas as pd\n",
    "import csv\n",
    "from sklearn.utils import shuffle"
   ]
  },
  {
   "cell_type": "code",
   "execution_count": 2,
   "metadata": {
    "collapsed": true
   },
   "outputs": [],
   "source": [
    "#Read the csv file\n",
    "df = pd.read_csv('titanic.csv')\n",
    "df.drop(['Name','Fare'],1,inplace=True)    \n",
    "\n",
    "# start preprocessing\n",
    "\n",
    "def non_numeric_data(df):\n",
    "    columns = df.columns.values\n",
    "    for column in columns:\n",
    "        data = {}\n",
    "        \n",
    "        def convert_to_int(value):\n",
    "            return data[value]\n",
    "        \n",
    "        if df[column].dtype!=np.int64 and df[column].dtype!=np.float64:\n",
    "            column_content = df[column].values.tolist()\n",
    "            unique_element = set(column_content)\n",
    "            x=0\n",
    "            for unique in unique_element:\n",
    "                if unique not in data:\n",
    "                    data[unique]=x\n",
    "                    x+=1    \n",
    "            df[column] = list(map(convert_to_int,df[column]))   \n",
    "            \n",
    "            \n",
    "    return df        \n",
    "                    \n",
    "        \n",
    "df = non_numeric_data(df) \n",
    "data = shuffle(df)\n",
    "columns = df.columns\n",
    "cols = columns[1:]\n",
    "x = df[cols]\n",
    "y = df['Survived']\n"
   ]
  },
  {
   "cell_type": "code",
   "execution_count": 8,
   "metadata": {},
   "outputs": [
    {
     "name": "stdout",
     "output_type": "stream",
     "text": [
      "Accuracy of KNN: 0.820224719101\n",
      "Accuracy of SVM: 0.870786516854\n"
     ]
    }
   ],
   "source": [
    "# starting prediction\n",
    "import random\n",
    "from sklearn import neighbors\n",
    "from sklearn import cross_validation\n",
    "from sklearn import svm\n",
    "\n",
    "X_train,X_test,y_train,y_test = cross_validation.train_test_split(x,y,test_size=0.2)\n",
    "clf1 = neighbors.KNeighborsClassifier()\n",
    "clf1.fit(X_train,y_train)\n",
    "\n",
    "clf2  = svm.SVC()\n",
    "clf2.fit(X_train,y_train)\n",
    "\n",
    "\n",
    "accuracy = clf1.score(X_test,y_test)\n",
    "accuracy1 = clf2.score(X_test,y_test)\n",
    "\n",
    "print \"Accuracy of KNN: \" +str(accuracy)\n",
    "print \"Accuracy of SVM: \" +str(accuracy1)\n",
    "\n",
    "\n",
    "\n"
   ]
  },
  {
   "cell_type": "code",
   "execution_count": null,
   "metadata": {
    "collapsed": true
   },
   "outputs": [],
   "source": []
  },
  {
   "cell_type": "code",
   "execution_count": null,
   "metadata": {
    "collapsed": true
   },
   "outputs": [],
   "source": []
  }
 ],
 "metadata": {
  "kernelspec": {
   "display_name": "Python 2",
   "language": "python",
   "name": "python2"
  },
  "language_info": {
   "codemirror_mode": {
    "name": "ipython",
    "version": 2
   },
   "file_extension": ".py",
   "mimetype": "text/x-python",
   "name": "python",
   "nbconvert_exporter": "python",
   "pygments_lexer": "ipython2",
   "version": "2.7.12"
  }
 },
 "nbformat": 4,
 "nbformat_minor": 2
}
